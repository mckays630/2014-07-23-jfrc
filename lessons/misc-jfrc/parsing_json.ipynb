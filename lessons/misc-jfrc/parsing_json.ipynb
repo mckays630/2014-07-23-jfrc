{
 "metadata": {
  "name": "",
  "signature": "sha256:1aa9ad669faa0de283d2e6fc91a5eef537fd1b173c1f1e9534d05d9e53491d63"
 },
 "nbformat": 3,
 "nbformat_minor": 0,
 "worksheets": [
  {
   "cells": [
    {
     "cell_type": "code",
     "collapsed": false,
     "input": [
      "import json"
     ],
     "language": "python",
     "metadata": {},
     "outputs": [],
     "prompt_number": 1
    },
    {
     "cell_type": "code",
     "collapsed": false,
     "input": [
      "reader = open('./info.json', 'r')\n",
      "my_json = json.load(reader)\n",
      "reader.close()"
     ],
     "language": "python",
     "metadata": {},
     "outputs": [],
     "prompt_number": 5
    },
    {
     "cell_type": "code",
     "collapsed": false,
     "input": [
      "type(my_json)"
     ],
     "language": "python",
     "metadata": {},
     "outputs": [
      {
       "metadata": {},
       "output_type": "pyout",
       "prompt_number": 7,
       "text": [
        "dict"
       ]
      }
     ],
     "prompt_number": 7
    },
    {
     "cell_type": "code",
     "collapsed": false,
     "input": [
      "my_json.keys()"
     ],
     "language": "python",
     "metadata": {},
     "outputs": [
      {
       "metadata": {},
       "output_type": "pyout",
       "prompt_number": 8,
       "text": [
        "[u'Datasets']"
       ]
      }
     ],
     "prompt_number": 8
    },
    {
     "cell_type": "code",
     "collapsed": false,
     "input": [
      "type(my_json['Datasets'])"
     ],
     "language": "python",
     "metadata": {},
     "outputs": [
      {
       "metadata": {},
       "output_type": "pyout",
       "prompt_number": 12,
       "text": [
        "list"
       ]
      }
     ],
     "prompt_number": 12
    },
    {
     "cell_type": "code",
     "collapsed": false,
     "input": [
      "len(my_json['Datasets'])"
     ],
     "language": "python",
     "metadata": {},
     "outputs": [
      {
       "metadata": {},
       "output_type": "pyout",
       "prompt_number": 13,
       "text": [
        "5"
       ]
      }
     ],
     "prompt_number": 13
    },
    {
     "cell_type": "code",
     "collapsed": false,
     "input": [
      "my_json['Datasets'][0]"
     ],
     "language": "python",
     "metadata": {},
     "outputs": [
      {
       "metadata": {},
       "output_type": "pyout",
       "prompt_number": 14,
       "text": [
        "{u'Alias': u'',\n",
        " u'DataMap': {u'calclabelstatus': {u'DsetID': 0,\n",
        "   u'ID': 8,\n",
        "   u'Name': u'calclabelstatus',\n",
        "   u'TypeService': {u'Name': u'keyvalue',\n",
        "    u'Requirements': {u'Batcher': True,\n",
        "     u'BulkIniter': False,\n",
        "     u'BulkWriter': False},\n",
        "    u'Url': u'github.com/janelia-flyem/dvid/datatype/keyvalue',\n",
        "    u'Version': u'0.1'},\n",
        "   u'Unversioned': True},\n",
        "  u'classifiers': {u'DsetID': 0,\n",
        "   u'ID': 5,\n",
        "   u'Name': u'classifiers',\n",
        "   u'TypeService': {u'Name': u'keyvalue',\n",
        "    u'Requirements': {u'Batcher': True,\n",
        "     u'BulkIniter': False,\n",
        "     u'BulkWriter': False},\n",
        "    u'Url': u'github.com/janelia-flyem/dvid/datatype/keyvalue',\n",
        "    u'Version': u'0.1'},\n",
        "   u'Unversioned': True},\n",
        "  u'explabel': {u'BlockSize': [32, 32, 32],\n",
        "   u'ByteOrder': {},\n",
        "   u'DsetID': 0,\n",
        "   u'ID': 7,\n",
        "   u'Labeling': 0,\n",
        "   u'MaxIndex': None,\n",
        "   u'MaxPoint': None,\n",
        "   u'MinIndex': None,\n",
        "   u'MinPoint': None,\n",
        "   u'Name': u'explabel',\n",
        "   u'Ready': False,\n",
        "   u'TypeService': {u'Name': u'labels64',\n",
        "    u'Requirements': {u'Batcher': True,\n",
        "     u'BulkIniter': False,\n",
        "     u'BulkWriter': False},\n",
        "    u'Url': u'github.com/janelia-flyem/dvid/datatype/labels64',\n",
        "    u'Version': u'0.1'},\n",
        "   u'Unversioned': True,\n",
        "   u'Values': [{u'DataType': u'uint64', u'Label': u'labels64'}],\n",
        "   u'VoxelSize': [10, 10, 10],\n",
        "   u'VoxelUnits': [u'nanometers', u'nanometers', u'nanometers']},\n",
        "  u'graylabel1': {u'BlockSize': [32, 32, 32],\n",
        "   u'ByteOrder': {},\n",
        "   u'DsetID': 0,\n",
        "   u'ID': 11,\n",
        "   u'MaxIndex': None,\n",
        "   u'MaxPoint': None,\n",
        "   u'MinIndex': None,\n",
        "   u'MinPoint': None,\n",
        "   u'Name': u'graylabel1',\n",
        "   u'TypeService': {u'Name': u'grayscale8',\n",
        "    u'Requirements': {u'Batcher': True,\n",
        "     u'BulkIniter': False,\n",
        "     u'BulkWriter': False},\n",
        "    u'Url': u'github.com/janelia-flyem/dvid/datatype/voxels/grayscale8.go',\n",
        "    u'Version': u'0.6'},\n",
        "   u'Unversioned': True,\n",
        "   u'Values': [{u'DataType': u'uint8', u'Label': u'grayscale'}],\n",
        "   u'VoxelSize': [10, 10, 10],\n",
        "   u'VoxelUnits': [u'nanometers', u'nanometers', u'nanometers']},\n",
        "  u'grayscale': {u'BlockSize': [32, 32, 32],\n",
        "   u'ByteOrder': None,\n",
        "   u'DsetID': 0,\n",
        "   u'ID': 0,\n",
        "   u'MaxIndex': [98, 81, 234],\n",
        "   u'MaxPoint': [3149, 2598, 7509],\n",
        "   u'MinIndex': [0, 0, 46],\n",
        "   u'MinPoint': [0, 0, 1490],\n",
        "   u'Name': u'grayscale',\n",
        "   u'TypeService': {u'Name': u'grayscale8',\n",
        "    u'Requirements': {u'Batcher': True,\n",
        "     u'BulkIniter': False,\n",
        "     u'BulkWriter': False},\n",
        "    u'Url': u'github.com/janelia-flyem/dvid/datatype/voxels/grayscale8.go',\n",
        "    u'Version': u'0.6'},\n",
        "   u'Unversioned': True,\n",
        "   u'Values': [{u'DataType': u'uint8', u'Label': u'grayscale'}],\n",
        "   u'VoxelSize': [10, 10, 10],\n",
        "   u'VoxelUnits': [u'nanometers', u'nanometers', u'nanometers']},\n",
        "  u'graytiles': {u'DsetID': 0,\n",
        "   u'ID': 3,\n",
        "   u'Levels': {u'0': {u'Resolution': [10, 10, 10],\n",
        "     u'TileSize': [512, 512, 512]},\n",
        "    u'1': {u'Resolution': [20, 20, 20], u'TileSize': [512, 512, 512]},\n",
        "    u'2': {u'Resolution': [40, 40, 40], u'TileSize': [512, 512, 512]},\n",
        "    u'3': {u'Resolution': [80, 80, 80], u'TileSize': [512, 512, 512]}},\n",
        "   u'Name': u'graytiles',\n",
        "   u'Placeholder': False,\n",
        "   u'Source': u'grayscale',\n",
        "   u'TypeService': {u'Name': u'quadtree',\n",
        "    u'Requirements': {u'Batcher': True,\n",
        "     u'BulkIniter': False,\n",
        "     u'BulkWriter': False},\n",
        "    u'Url': u'github.com/janelia-flyem/dvid/datatype/quadtree',\n",
        "    u'Version': u'0.1'},\n",
        "   u'Unversioned': True},\n",
        "  u'seg3': {u'BlockSize': [32, 32, 32],\n",
        "   u'ByteOrder': {},\n",
        "   u'DsetID': 0,\n",
        "   u'ID': 9,\n",
        "   u'Labeling': 0,\n",
        "   u'MaxIndex': None,\n",
        "   u'MaxPoint': None,\n",
        "   u'MinIndex': None,\n",
        "   u'MinPoint': None,\n",
        "   u'Name': u'seg3',\n",
        "   u'Ready': False,\n",
        "   u'TypeService': {u'Name': u'labels64',\n",
        "    u'Requirements': {u'Batcher': True,\n",
        "     u'BulkIniter': False,\n",
        "     u'BulkWriter': False},\n",
        "    u'Url': u'github.com/janelia-flyem/dvid/datatype/labels64',\n",
        "    u'Version': u'0.1'},\n",
        "   u'Unversioned': True,\n",
        "   u'Values': [{u'DataType': u'uint64', u'Label': u'labels64'}],\n",
        "   u'VoxelSize': [10, 10, 10],\n",
        "   u'VoxelUnits': [u'nanometers', u'nanometers', u'nanometers']},\n",
        "  u'seg4': {u'BlockSize': [32, 32, 32],\n",
        "   u'ByteOrder': {},\n",
        "   u'DsetID': 0,\n",
        "   u'ID': 10,\n",
        "   u'Labeling': 0,\n",
        "   u'MaxIndex': None,\n",
        "   u'MaxPoint': None,\n",
        "   u'MinIndex': None,\n",
        "   u'MinPoint': None,\n",
        "   u'Name': u'seg4',\n",
        "   u'Ready': False,\n",
        "   u'TypeService': {u'Name': u'labels64',\n",
        "    u'Requirements': {u'Batcher': True,\n",
        "     u'BulkIniter': False,\n",
        "     u'BulkWriter': False},\n",
        "    u'Url': u'github.com/janelia-flyem/dvid/datatype/labels64',\n",
        "    u'Version': u'0.1'},\n",
        "   u'Unversioned': True,\n",
        "   u'Values': [{u'DataType': u'uint64', u'Label': u'labels64'}],\n",
        "   u'VoxelSize': [10, 10, 10],\n",
        "   u'VoxelUnits': [u'nanometers', u'nanometers', u'nanometers']},\n",
        "  u'segstatus': {u'DsetID': 0,\n",
        "   u'ID': 6,\n",
        "   u'Name': u'segstatus',\n",
        "   u'TypeService': {u'Name': u'keyvalue',\n",
        "    u'Requirements': {u'Batcher': True,\n",
        "     u'BulkIniter': False,\n",
        "     u'BulkWriter': False},\n",
        "    u'Url': u'github.com/janelia-flyem/dvid/datatype/keyvalue',\n",
        "    u'Version': u'0.1'},\n",
        "   u'Unversioned': True},\n",
        "  u'skeletons': {u'DsetID': 0,\n",
        "   u'ID': 4,\n",
        "   u'Name': u'skeletons',\n",
        "   u'TypeService': {u'Name': u'keyvalue',\n",
        "    u'Requirements': {u'Batcher': True,\n",
        "     u'BulkIniter': False,\n",
        "     u'BulkWriter': False},\n",
        "    u'Url': u'github.com/janelia-flyem/dvid/datatype/keyvalue',\n",
        "    u'Version': u'0.1'},\n",
        "   u'Unversioned': True},\n",
        "  u'sp2body': {u'DsetID': 0,\n",
        "   u'ID': 2,\n",
        "   u'Labels': u'superpixels',\n",
        "   u'Name': u'sp2body',\n",
        "   u'Ready': True,\n",
        "   u'TypeService': {u'Name': u'labelmap',\n",
        "    u'Requirements': {u'Batcher': True,\n",
        "     u'BulkIniter': False,\n",
        "     u'BulkWriter': False},\n",
        "    u'Url': u'github.com/janelia-flyem/dvid/datatype/labelmap',\n",
        "    u'Version': u'0.1'},\n",
        "   u'Unversioned': True,\n",
        "   u'ZeroLocked': True},\n",
        "  u'superpixels': {u'BlockSize': [32, 32, 32],\n",
        "   u'ByteOrder': None,\n",
        "   u'DsetID': 0,\n",
        "   u'ID': 1,\n",
        "   u'Labeling': 0,\n",
        "   u'MaxIndex': [98, 81, 234],\n",
        "   u'MaxPoint': [3149, 2598, 7509],\n",
        "   u'MinIndex': [0, 0, 46],\n",
        "   u'MinPoint': [0, 0, 1490],\n",
        "   u'Name': u'superpixels',\n",
        "   u'Ready': False,\n",
        "   u'TypeService': {u'Name': u'labels64',\n",
        "    u'Requirements': {u'Batcher': True,\n",
        "     u'BulkIniter': False,\n",
        "     u'BulkWriter': False},\n",
        "    u'Url': u'github.com/janelia-flyem/dvid/datatype/labels64',\n",
        "    u'Version': u'0.1'},\n",
        "   u'Unversioned': True,\n",
        "   u'Values': [{u'DataType': u'uint64', u'Label': u'labels64'}],\n",
        "   u'VoxelSize': [10, 10, 10],\n",
        "   u'VoxelUnits': [u'nanometers', u'nanometers', u'nanometers']}},\n",
        " u'DatasetID': 0,\n",
        " u'NewDataID': 12,\n",
        " u'NewVersionID': 1,\n",
        " u'Nodes': {u'339cefa895c811e395f090b11c576b54': {u'Avail': None,\n",
        "   u'Children': None,\n",
        "   u'Created': u'2014-02-14T17:34:44.318078479-05:00',\n",
        "   u'GlobalID': u'339cefa895c811e395f090b11c576b54',\n",
        "   u'Locked': False,\n",
        "   u'Parents': None,\n",
        "   u'Updated': u'2014-02-14T17:34:44.318078479-05:00',\n",
        "   u'VersionID': 0}},\n",
        " u'Root': u'339cefa895c811e395f090b11c576b54',\n",
        " u'VersionMap': {u'339cefa895c811e395f090b11c576b54': 0}}"
       ]
      }
     ],
     "prompt_number": 14
    },
    {
     "cell_type": "code",
     "collapsed": false,
     "input": [],
     "language": "python",
     "metadata": {},
     "outputs": []
    },
    {
     "cell_type": "code",
     "collapsed": false,
     "input": [],
     "language": "python",
     "metadata": {},
     "outputs": []
    },
    {
     "cell_type": "code",
     "collapsed": false,
     "input": [],
     "language": "python",
     "metadata": {},
     "outputs": []
    }
   ],
   "metadata": {}
  }
 ]
}